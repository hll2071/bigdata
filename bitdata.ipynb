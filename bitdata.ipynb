
!pip install -q xgboost pandas numpy matplotlib scikit-learn

import pandas as pd
import numpy as np
import matplotlib.pyplot as plt
from datetime import timedelta
from sklearn.model_selection import train_test_split
from sklearn.metrics import roc_auc_score, accuracy_score, precision_score, recall_score
from xgboost import XGBClassifier

DATA_PATH = '/content/'

customers     = pd.read_csv(DATA_PATH + 'olist_customers_dataset.csv')
orders        = pd.read_csv(DATA_PATH + 'olist_orders_dataset.csv', parse_dates=['order_purchase_timestamp'])
order_items   = pd.read_csv(DATA_PATH + 'olist_order_items_dataset.csv')
payments      = pd.read_csv(DATA_PATH + 'olist_order_payments_dataset.csv')
reviews       = pd.read_csv(DATA_PATH + 'olist_order_reviews_dataset.csv', parse_dates=['review_creation_date'])

snapshot_date = orders['order_purchase_timestamp'].max() + timedelta(days=1)

rfm = orders.groupby('customer_id').agg({
    'order_purchase_timestamp': lambda x: (snapshot_date - x.max()).days,
    'order_id': 'nunique'
}).rename(columns={
    'order_purchase_timestamp':'Recency',
    'order_id':'Frequency'
})

oi = order_items.copy()
oi['subtotal'] = oi['price'] * oi['order_item_id']*0 + oi['price']*oi['order_item_id']*0 + oi['price']*1  # 단순 예시
mon = oi.groupby('order_id')['subtotal'].sum().reset_index()
ord_mon = orders[['order_id','customer_id']].merge(mon, on='order_id')
monetary = ord_mon.groupby('customer_id')['subtotal'].sum().rename('Monetary')

rfm = rfm.join(monetary, how='left').fillna(0)

reviews_with_cust = reviews.merge(
    orders[['order_id','customer_id']],
    on='order_id',
    how='left'
)
rev = reviews_with_cust.groupby('customer_id')['review_score'] \
                       .mean() \
                       .rename('AvgReview')

payments_with_cust = payments.merge(
    orders[['order_id','customer_id']],
    on='order_id',
    how='left'
)

pay = (
    payments_with_cust
    .groupby(['customer_id','payment_type'])
    .size()
    .unstack(fill_value=0)
)

df = rfm.join(rev, how='left').join(pay, how='left').fillna(0)

df['Churn'] = (df['Recency'] > 180).astype(int)

X = df.drop(columns='Churn')
y = df['Churn']

X_train, X_test, y_train, y_test = train_test_split(X, y,
                                                    test_size=0.3,
                                                    random_state=42,
                                                    stratify=y)

model = XGBClassifier(random_state=42, use_label_encoder=False, eval_metric='logloss')
model.fit(X_train, y_train)

y_pred = model.predict(X_test)
y_proba = model.predict_proba(X_test)[:,1]

metrics = {
    'AUC': roc_auc_score(y_test, y_proba),
    'Accuracy': accuracy_score(y_test, y_pred),
    'Precision': precision_score(y_test, y_pred),
    'Recall': recall_score(y_test, y_pred)
}
print("▶ 모델 성능 지표")
for k,v in metrics.items():
    print(f"  {k:>9}: {v:.2%}")

imp = pd.DataFrame({
    'Feature': X.columns,
    'Importance': model.feature_importances_
}).sort_values('Importance', ascending=False).reset_index(drop=True)

print("\n▶ 변수 중요도 순위")
print(imp.head(10).to_markdown(index=False))

r_quartiles = pd.qcut(df['Recency'], 4, labels=False)

if df['Frequency'].nunique() == 1:
    df['F_Score'] = 4
else:
    freq_rank = df['Frequency'].rank(method='first')
    f_quartiles = pd.qcut(freq_rank, 4, labels=False)
    df['F_Score'] = f_quartiles + 1

df['R_Score'] = 4 - r_quartiles

segments = df.groupby(['R_Score','F_Score']).agg(
    CustomerCount=('Churn','count'),
    ChurnRate=('Churn','mean')
).reset_index()
segments['ChurnRate'] = (segments['ChurnRate'] * 100).round(1)
print(segments.to_markdown(index=False))

plt.figure(figsize=(8,4))
plt.barh(imp['Feature'][:5][::-1], imp['Importance'][:5][::-1])
plt.title('Top5 중요 변수')
plt.xlabel('Importance')
plt.tight_layout()
plt.show()

main_pay = pay.idxmax(axis=1)  

pay_churn2 = (
    df.assign(MainPay=main_pay)
      .groupby('MainPay')['Churn']
      .mean()
      .mul(100)
      .round(1)
      .rename('ChurnRate')
      .reset_index()
)

print(pay_churn2.to_markdown(index=False))

import matplotlib.pyplot as plt

plt.figure(figsize=(6,4))
plt.bar(pay_churn2['MainPay'], pay_churn2['ChurnRate'])
plt.title('Churn rate by mainPay')
plt.xlabel('MainPay')
plt.ylabel('ChurnRate (%)')
plt.tight_layout()
plt.show()

